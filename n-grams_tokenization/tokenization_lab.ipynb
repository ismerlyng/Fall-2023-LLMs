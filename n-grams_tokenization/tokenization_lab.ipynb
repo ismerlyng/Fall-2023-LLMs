{
 "cells": [
  {
   "cell_type": "markdown",
   "id": "01b0b75f",
   "metadata": {},
   "source": [
    "# Tokenization Lab \n",
    "September 17 - Exploring different tokenization methods"
   ]
  },
  {
   "cell_type": "code",
   "execution_count": 12,
   "id": "566b6b5c",
   "metadata": {},
   "outputs": [],
   "source": [
    "import nltk\n",
    "import timeit"
   ]
  },
  {
   "cell_type": "code",
   "execution_count": 6,
   "id": "b91fb836",
   "metadata": {},
   "outputs": [
    {
     "name": "stdout",
     "output_type": "stream",
     "text": [
      "Collecting datasets\n",
      "  Obtaining dependency information for datasets from https://files.pythonhosted.org/packages/09/7e/fd4d6441a541dba61d0acb3c1fd5df53214c2e9033854e837a99dd9e0793/datasets-2.14.5-py3-none-any.whl.metadata\n",
      "  Downloading datasets-2.14.5-py3-none-any.whl.metadata (19 kB)\n",
      "Requirement already satisfied: numpy>=1.17 in c:\\users\\ismer\\anaconda3\\lib\\site-packages (from datasets) (1.24.3)\n",
      "Requirement already satisfied: pyarrow>=8.0.0 in c:\\users\\ismer\\anaconda3\\lib\\site-packages (from datasets) (11.0.0)\n",
      "Requirement already satisfied: dill<0.3.8,>=0.3.0 in c:\\users\\ismer\\anaconda3\\lib\\site-packages (from datasets) (0.3.6)\n",
      "Requirement already satisfied: pandas in c:\\users\\ismer\\anaconda3\\lib\\site-packages (from datasets) (1.5.3)\n",
      "Requirement already satisfied: requests>=2.19.0 in c:\\users\\ismer\\anaconda3\\lib\\site-packages (from datasets) (2.31.0)\n",
      "Requirement already satisfied: tqdm>=4.62.1 in c:\\users\\ismer\\anaconda3\\lib\\site-packages (from datasets) (4.65.0)\n",
      "Collecting xxhash (from datasets)\n",
      "  Obtaining dependency information for xxhash from https://files.pythonhosted.org/packages/46/14/0302669d5d983ce23dc3870f4f2b16ab1d757a1d7e54a5cfe7a5df37f8e2/xxhash-3.3.0-cp311-cp311-win_amd64.whl.metadata\n",
      "  Downloading xxhash-3.3.0-cp311-cp311-win_amd64.whl.metadata (12 kB)\n",
      "Collecting multiprocess (from datasets)\n",
      "  Obtaining dependency information for multiprocess from https://files.pythonhosted.org/packages/e7/41/96ac938770ba6e7d5ae1d8c9cafebac54b413549042c6260f0d0a6ec6622/multiprocess-0.70.15-py311-none-any.whl.metadata\n",
      "  Downloading multiprocess-0.70.15-py311-none-any.whl.metadata (7.2 kB)\n",
      "Requirement already satisfied: fsspec[http]<2023.9.0,>=2023.1.0 in c:\\users\\ismer\\anaconda3\\lib\\site-packages (from datasets) (2023.3.0)\n",
      "Requirement already satisfied: aiohttp in c:\\users\\ismer\\anaconda3\\lib\\site-packages (from datasets) (3.8.3)\n",
      "Collecting huggingface-hub<1.0.0,>=0.14.0 (from datasets)\n",
      "  Obtaining dependency information for huggingface-hub<1.0.0,>=0.14.0 from https://files.pythonhosted.org/packages/aa/f3/3fc97336a0e90516901befd4f500f08d691034d387406fdbde85bea827cc/huggingface_hub-0.17.3-py3-none-any.whl.metadata\n",
      "  Downloading huggingface_hub-0.17.3-py3-none-any.whl.metadata (13 kB)\n",
      "Requirement already satisfied: packaging in c:\\users\\ismer\\anaconda3\\lib\\site-packages (from datasets) (23.0)\n",
      "Requirement already satisfied: pyyaml>=5.1 in c:\\users\\ismer\\anaconda3\\lib\\site-packages (from datasets) (6.0)\n",
      "Requirement already satisfied: attrs>=17.3.0 in c:\\users\\ismer\\anaconda3\\lib\\site-packages (from aiohttp->datasets) (22.1.0)\n",
      "Requirement already satisfied: charset-normalizer<3.0,>=2.0 in c:\\users\\ismer\\anaconda3\\lib\\site-packages (from aiohttp->datasets) (2.0.4)\n",
      "Requirement already satisfied: multidict<7.0,>=4.5 in c:\\users\\ismer\\anaconda3\\lib\\site-packages (from aiohttp->datasets) (6.0.2)\n",
      "Requirement already satisfied: async-timeout<5.0,>=4.0.0a3 in c:\\users\\ismer\\anaconda3\\lib\\site-packages (from aiohttp->datasets) (4.0.2)\n",
      "Requirement already satisfied: yarl<2.0,>=1.0 in c:\\users\\ismer\\anaconda3\\lib\\site-packages (from aiohttp->datasets) (1.8.1)\n",
      "Requirement already satisfied: frozenlist>=1.1.1 in c:\\users\\ismer\\anaconda3\\lib\\site-packages (from aiohttp->datasets) (1.3.3)\n",
      "Requirement already satisfied: aiosignal>=1.1.2 in c:\\users\\ismer\\anaconda3\\lib\\site-packages (from aiohttp->datasets) (1.2.0)\n",
      "Requirement already satisfied: filelock in c:\\users\\ismer\\anaconda3\\lib\\site-packages (from huggingface-hub<1.0.0,>=0.14.0->datasets) (3.9.0)\n",
      "Requirement already satisfied: typing-extensions>=3.7.4.3 in c:\\users\\ismer\\anaconda3\\lib\\site-packages (from huggingface-hub<1.0.0,>=0.14.0->datasets) (4.7.1)\n",
      "Requirement already satisfied: idna<4,>=2.5 in c:\\users\\ismer\\anaconda3\\lib\\site-packages (from requests>=2.19.0->datasets) (3.4)\n",
      "Requirement already satisfied: urllib3<3,>=1.21.1 in c:\\users\\ismer\\anaconda3\\lib\\site-packages (from requests>=2.19.0->datasets) (1.26.16)\n",
      "Requirement already satisfied: certifi>=2017.4.17 in c:\\users\\ismer\\anaconda3\\lib\\site-packages (from requests>=2.19.0->datasets) (2023.7.22)\n",
      "Requirement already satisfied: colorama in c:\\users\\ismer\\anaconda3\\lib\\site-packages (from tqdm>=4.62.1->datasets) (0.4.6)\n",
      "Collecting dill<0.3.8,>=0.3.0 (from datasets)\n",
      "  Obtaining dependency information for dill<0.3.8,>=0.3.0 from https://files.pythonhosted.org/packages/f5/3a/74a29b11cf2cdfcd6ba89c0cecd70b37cd1ba7b77978ce611eb7a146a832/dill-0.3.7-py3-none-any.whl.metadata\n",
      "  Downloading dill-0.3.7-py3-none-any.whl.metadata (9.9 kB)\n",
      "Requirement already satisfied: python-dateutil>=2.8.1 in c:\\users\\ismer\\anaconda3\\lib\\site-packages (from pandas->datasets) (2.8.2)\n",
      "Requirement already satisfied: pytz>=2020.1 in c:\\users\\ismer\\anaconda3\\lib\\site-packages (from pandas->datasets) (2022.7)\n",
      "Requirement already satisfied: six>=1.5 in c:\\users\\ismer\\anaconda3\\lib\\site-packages (from python-dateutil>=2.8.1->pandas->datasets) (1.16.0)\n",
      "Downloading datasets-2.14.5-py3-none-any.whl (519 kB)\n",
      "   ---------------------------------------- 0.0/519.6 kB ? eta -:--:--\n",
      "   --------------------------------------- 519.6/519.6 kB 31.8 MB/s eta 0:00:00\n",
      "Downloading huggingface_hub-0.17.3-py3-none-any.whl (295 kB)\n",
      "   ---------------------------------------- 0.0/295.0 kB ? eta -:--:--\n",
      "   --------------------------------------- 295.0/295.0 kB 19.0 MB/s eta 0:00:00\n",
      "Downloading multiprocess-0.70.15-py311-none-any.whl (135 kB)\n",
      "   ---------------------------------------- 0.0/135.4 kB ? eta -:--:--\n",
      "   ---------------------------------------- 135.4/135.4 kB ? eta 0:00:00\n",
      "Downloading dill-0.3.7-py3-none-any.whl (115 kB)\n",
      "   ---------------------------------------- 0.0/115.3 kB ? eta -:--:--\n",
      "   ---------------------------------------- 115.3/115.3 kB 7.0 MB/s eta 0:00:00\n",
      "Downloading xxhash-3.3.0-cp311-cp311-win_amd64.whl (29 kB)\n",
      "Installing collected packages: xxhash, dill, multiprocess, huggingface-hub, datasets\n",
      "  Attempting uninstall: dill\n",
      "    Found existing installation: dill 0.3.6\n",
      "    Uninstalling dill-0.3.6:\n",
      "      Successfully uninstalled dill-0.3.6\n",
      "Successfully installed datasets-2.14.5 dill-0.3.7 huggingface-hub-0.17.3 multiprocess-0.70.15 xxhash-3.3.0\n",
      "Note: you may need to restart the kernel to use updated packages.\n"
     ]
    }
   ],
   "source": [
    "%pip install datasets"
   ]
  },
  {
   "cell_type": "code",
   "execution_count": 7,
   "id": "37a55993",
   "metadata": {},
   "outputs": [],
   "source": [
    "from datasets import load_dataset"
   ]
  },
  {
   "cell_type": "code",
   "execution_count": 8,
   "id": "e32605e3",
   "metadata": {},
   "outputs": [
    {
     "data": {
      "application/vnd.jupyter.widget-view+json": {
       "model_id": "7a75714007864e0eb243f9341fa188e0",
       "version_major": 2,
       "version_minor": 0
      },
      "text/plain": [
       "Downloading builder script:   0%|          | 0.00/8.91k [00:00<?, ?B/s]"
      ]
     },
     "metadata": {},
     "output_type": "display_data"
    },
    {
     "data": {
      "application/vnd.jupyter.widget-view+json": {
       "model_id": "73ebf443e0ac465caa7d8fe4ffe5e2d1",
       "version_major": 2,
       "version_minor": 0
      },
      "text/plain": [
       "Downloading readme:   0%|          | 0.00/8.02k [00:00<?, ?B/s]"
      ]
     },
     "metadata": {},
     "output_type": "display_data"
    },
    {
     "name": "stdout",
     "output_type": "stream",
     "text": [
      "Only taking a subset of years. Change name to 'all_years' to use all years in the dataset.\n",
      "{'1960': 'https://huggingface.co/datasets/dell-research-harvard/AmericanStories/resolve/main/faro_1960.tar.gz'}\n"
     ]
    },
    {
     "data": {
      "application/vnd.jupyter.widget-view+json": {
       "model_id": "afa3c71cfecf49c78b4a29ed79bc61ae",
       "version_major": 2,
       "version_minor": 0
      },
      "text/plain": [
       "Downloading data files:   0%|          | 0/1 [00:00<?, ?it/s]"
      ]
     },
     "metadata": {},
     "output_type": "display_data"
    },
    {
     "data": {
      "application/vnd.jupyter.widget-view+json": {
       "model_id": "14c1f99e1e70402dbb03f66576c7f636",
       "version_major": 2,
       "version_minor": 0
      },
      "text/plain": [
       "Downloading data:   0%|          | 0.00/256M [00:00<?, ?B/s]"
      ]
     },
     "metadata": {},
     "output_type": "display_data"
    },
    {
     "data": {
      "application/vnd.jupyter.widget-view+json": {
       "model_id": "c273dc30a4a4476b88d19393c9db7987",
       "version_major": 2,
       "version_minor": 0
      },
      "text/plain": [
       "Generating 1960 split: 0 examples [00:00, ? examples/s]"
      ]
     },
     "metadata": {},
     "output_type": "display_data"
    },
    {
     "name": "stdout",
     "output_type": "stream",
     "text": [
      "Loading associated\n",
      "SAN FRANCISCO. Nov. 10\n",
      "(AP).-Alvin Dark made his\n",
      "first decisions yesterday as\n",
      "manager Of the San Francisco\n",
      "Giants. He hired two former\n",
      "teammates as coaches.\n",
      "\n",
      "\n",
      "Dark was signed last week,\n",
      "Yesterday he selected Larry\n",
      "Jansen and Whitley Lockman\n",
      "and retained Yves Westrum and\n",
      "Salty Parker for his coaching\n",
      "staff. Bill Posedel was re-\n",
      "leased to make way for Jansen\n",
      "as boss Of the bullpen.\n",
      "\n",
      "\n",
      "Dark. Jansen and Lockman-\n",
      "stars when they played for the\n",
      "Giants have a lot in common\n",
      "They have regulations al\n",
      "gentlemen, quiet craftsmen whc\n",
      "let their feats on the field speal\n",
      "for them.\n",
      "\n",
      "\n",
      "Dark hit 1922 in his rookie\n",
      "season with the Boston Brave.\n",
      "and was named rookie of thu\n",
      "year l948 by the major league\n",
      "baseball writer's.\n",
      "\n",
      "\n",
      "AS lean. smiling youngstel\n",
      "of 18, Lockman stepped intC\n",
      "Mel Otis No. 3 batting spot IL\n",
      "midsummer Of 1945 anchead last Saturday when Mon\n",
      "treal lost in q cup playoff with\n",
      "out throwing a pass In the last\n",
      "half. Moss said it was because\n",
      "of Etcheverry's sore arm. The\n",
      "player said his arm was SOUND\n"
     ]
    }
   ],
   "source": [
    "# Decide what year you want between 1810 and 1963\n",
    "\n",
    "my_year = \"1960\"\n",
    "\n",
    "# Decide how many articles you want to work with\n",
    "num_articles = 10\n",
    "\n",
    "#  Download data for your choice of year (1810 to 1963)\n",
    "dataset = load_dataset(\"dell-research-harvard/AmericanStories\",\n",
    "    \"subset_years\",\n",
    "    year_list=[my_year]\n",
    ")\n",
    "\n",
    "# Get the first n articles from that year\n",
    "# instantiate the counter\n",
    "i=0\n",
    "# instantiate the string\n",
    "my_articles = ''\n",
    "# loop through each article for that year\n",
    "for article in dataset[my_year]:\n",
    "    #the article is a dictionary, \n",
    "    #we're getting the text of the article by accessing the key, \"article\"\n",
    "    my_articles += article.get('article')\n",
    "    #add one to our counter\n",
    "    i+=1\n",
    "    #if the counter is greater than num_articles-1, stop looping\n",
    "    if i>(num_articles-1): break\n",
    "    \n",
    "#validate that it is what we expect by checking on first 100 characters\n",
    "print(my_articles[:1000])"
   ]
  },
  {
   "cell_type": "code",
   "execution_count": 9,
   "id": "68bc3f4b",
   "metadata": {},
   "outputs": [
    {
     "data": {
      "text/plain": [
       "\"SAN FRANCISCO. Nov. 10 (AP).-Alvin Dark made his first decisions yesterday as manager Of the San Francisco Giants. He hired two former teammates as coaches.   Dark was signed last week, Yesterday he selected Larry Jansen and Whitley Lockman and retained Yves Westrum and Salty Parker for his coaching staff. Bill Posedel was re- leased to make way for Jansen as boss Of the bullpen.   Dark. Jansen and Lockman- stars when they played for the Giants have a lot in common They have regulations al gentlemen, quiet craftsmen whc let their feats on the field speal for them.   Dark hit 1922 in his rookie season with the Boston Brave. and was named rookie of thu year l948 by the major league baseball writer's.   AS lean. smiling youngstel of 18, Lockman stepped intC Mel Otis No. 3 batting spot IL midsummer Of 1945 anchead last Saturday when Mon treal lost in q cup playoff with out throwing a pass In the last half. Moss said it was because of Etcheverry's sore arm. The player said his arm was SOUND\""
      ]
     },
     "execution_count": 9,
     "metadata": {},
     "output_type": "execute_result"
    }
   ],
   "source": [
    "#remove new line and other formatting characters\n",
    "for char in [\"\\n\", \"\\r\", \"\\d\", \"\\t\"]:\n",
    "    my_articles = my_articles.replace(char, \" \")\n",
    "my_articles[:1000]"
   ]
  },
  {
   "cell_type": "markdown",
   "id": "7481acfd",
   "metadata": {},
   "source": [
    "# Whitespace tokenization"
   ]
  },
  {
   "cell_type": "code",
   "execution_count": 10,
   "id": "3703bc5c",
   "metadata": {},
   "outputs": [
    {
     "name": "stdout",
     "output_type": "stream",
     "text": [
      "CPU times: total: 0 ns\n",
      "Wall time: 996 µs\n"
     ]
    },
    {
     "data": {
      "text/plain": [
       "['SAN',\n",
       " 'FRANCISCO.',\n",
       " 'Nov.',\n",
       " '10',\n",
       " '(AP).-Alvin',\n",
       " 'Dark',\n",
       " 'made',\n",
       " 'his',\n",
       " 'first',\n",
       " 'decisions',\n",
       " 'yesterday',\n",
       " 'as',\n",
       " 'manager',\n",
       " 'Of',\n",
       " 'the',\n",
       " 'San',\n",
       " 'Francisco',\n",
       " 'Giants.',\n",
       " 'He',\n",
       " 'hired']"
      ]
     },
     "execution_count": 10,
     "metadata": {},
     "output_type": "execute_result"
    }
   ],
   "source": [
    "%%time\n",
    "#this is a magic function to determine how long a cell takes to run. \n",
    "#It MUST be the first thing in a cell\n",
    "\n",
    "#split the whole string on spaces. This returns a list\n",
    "whitespace_tokens = my_articles.split(' ')\n",
    "\n",
    "#check the list\n",
    "whitespace_tokens[:20]"
   ]
  },
  {
   "cell_type": "markdown",
   "id": "25746d1d",
   "metadata": {},
   "source": [
    "# Morphological Tokenization"
   ]
  },
  {
   "cell_type": "code",
   "execution_count": 13,
   "id": "1f3ef0f6",
   "metadata": {},
   "outputs": [
    {
     "name": "stderr",
     "output_type": "stream",
     "text": [
      "[nltk_data] Downloading package wordnet to\n",
      "[nltk_data]     C:\\Users\\ismer\\AppData\\Roaming\\nltk_data...\n",
      "[nltk_data] Downloading package omw-1.4 to\n",
      "[nltk_data]     C:\\Users\\ismer\\AppData\\Roaming\\nltk_data...\n"
     ]
    }
   ],
   "source": [
    "#This lemmatizer is based on the Morphy project above\n",
    "from nltk.stem import WordNetLemmatizer\n",
    " \n",
    "#Uncomment these two lines - you may need to download these, maybe not. \n",
    "nltk.download('wordnet')\n",
    "nltk.download('omw-1.4')\n",
    "wn_lemmatizer = WordNetLemmatizer()"
   ]
  },
  {
   "cell_type": "code",
   "execution_count": 14,
   "id": "fee7a596",
   "metadata": {},
   "outputs": [
    {
     "name": "stdout",
     "output_type": "stream",
     "text": [
      "CPU times: total: 1.16 s\n",
      "Wall time: 1.24 s\n"
     ]
    },
    {
     "data": {
      "text/plain": [
       "['SAN',\n",
       " 'FRANCISCO.',\n",
       " 'Nov.',\n",
       " '10',\n",
       " '(AP).-Alvin',\n",
       " 'Dark',\n",
       " 'made',\n",
       " 'his',\n",
       " 'first',\n",
       " 'decision',\n",
       " 'yesterday',\n",
       " 'a',\n",
       " 'manager',\n",
       " 'Of',\n",
       " 'the',\n",
       " 'San',\n",
       " 'Francisco',\n",
       " 'Giants.',\n",
       " 'He',\n",
       " 'hired']"
      ]
     },
     "execution_count": 14,
     "metadata": {},
     "output_type": "execute_result"
    }
   ],
   "source": [
    "%%time\n",
    "\n",
    "#first we have to split the string on spaces to get \"words\"\n",
    "whitespace_tokens = my_articles.split(' ')\n",
    "\n",
    "my_lemmas = []\n",
    "for word in whitespace_tokens:\n",
    "    w = wn_lemmatizer.lemmatize(word)\n",
    "    my_lemmas.append(w)\n",
    "my_lemmas[:20]"
   ]
  },
  {
   "cell_type": "markdown",
   "id": "8e8c2ae5",
   "metadata": {},
   "source": [
    "Interestingly, the time taken to tokenize was seconds not milliseconds."
   ]
  },
  {
   "cell_type": "markdown",
   "id": "1f5bd99e",
   "metadata": {},
   "source": [
    "# Byte Pair Encoding (BPE)"
   ]
  },
  {
   "cell_type": "code",
   "execution_count": 16,
   "id": "4258eb6e",
   "metadata": {},
   "outputs": [
    {
     "name": "stdout",
     "output_type": "stream",
     "text": [
      "Collecting bpe\n",
      "  Downloading bpe-1.0-py3-none-any.whl (6.8 kB)\n",
      "Requirement already satisfied: nltk in c:\\users\\ismer\\anaconda3\\lib\\site-packages (from bpe) (3.8.1)\n",
      "Requirement already satisfied: tqdm in c:\\users\\ismer\\anaconda3\\lib\\site-packages (from bpe) (4.65.0)\n",
      "Requirement already satisfied: pytest in c:\\users\\ismer\\anaconda3\\lib\\site-packages (from bpe) (7.4.0)\n",
      "Collecting hypothesis (from bpe)\n",
      "  Obtaining dependency information for hypothesis from https://files.pythonhosted.org/packages/48/4b/126dba4fbc20143aeb599d7b227e8d9c5f8deb31994731a886f381cdac3e/hypothesis-6.87.0-py3-none-any.whl.metadata\n",
      "  Downloading hypothesis-6.87.0-py3-none-any.whl.metadata (5.9 kB)\n",
      "Requirement already satisfied: toolz in c:\\users\\ismer\\anaconda3\\lib\\site-packages (from bpe) (0.12.0)\n",
      "Collecting mypy (from bpe)\n",
      "  Obtaining dependency information for mypy from https://files.pythonhosted.org/packages/4e/11/ac861ca5d9b16fd5b781c1941254d4e382e8eaab90e11f41f193d9222b7e/mypy-1.5.1-cp311-cp311-win_amd64.whl.metadata\n",
      "  Downloading mypy-1.5.1-cp311-cp311-win_amd64.whl.metadata (1.8 kB)\n",
      "Requirement already satisfied: attrs>=19.2.0 in c:\\users\\ismer\\anaconda3\\lib\\site-packages (from hypothesis->bpe) (22.1.0)\n",
      "Requirement already satisfied: sortedcontainers<3.0.0,>=2.1.0 in c:\\users\\ismer\\anaconda3\\lib\\site-packages (from hypothesis->bpe) (2.4.0)\n",
      "Requirement already satisfied: typing-extensions>=4.1.0 in c:\\users\\ismer\\anaconda3\\lib\\site-packages (from mypy->bpe) (4.7.1)\n",
      "Collecting mypy-extensions>=1.0.0 (from mypy->bpe)\n",
      "  Downloading mypy_extensions-1.0.0-py3-none-any.whl (4.7 kB)\n",
      "Requirement already satisfied: click in c:\\users\\ismer\\anaconda3\\lib\\site-packages (from nltk->bpe) (8.0.4)\n",
      "Requirement already satisfied: joblib in c:\\users\\ismer\\anaconda3\\lib\\site-packages (from nltk->bpe) (1.2.0)\n",
      "Requirement already satisfied: regex>=2021.8.3 in c:\\users\\ismer\\anaconda3\\lib\\site-packages (from nltk->bpe) (2022.7.9)\n",
      "Requirement already satisfied: iniconfig in c:\\users\\ismer\\anaconda3\\lib\\site-packages (from pytest->bpe) (1.1.1)\n",
      "Requirement already satisfied: packaging in c:\\users\\ismer\\anaconda3\\lib\\site-packages (from pytest->bpe) (23.0)\n",
      "Requirement already satisfied: pluggy<2.0,>=0.12 in c:\\users\\ismer\\anaconda3\\lib\\site-packages (from pytest->bpe) (1.0.0)\n",
      "Requirement already satisfied: colorama in c:\\users\\ismer\\anaconda3\\lib\\site-packages (from pytest->bpe) (0.4.6)\n",
      "Downloading hypothesis-6.87.0-py3-none-any.whl (420 kB)\n",
      "   ---------------------------------------- 0.0/420.7 kB ? eta -:--:--\n",
      "   ---------------------------------------- 420.7/420.7 kB ? eta 0:00:00\n",
      "Downloading mypy-1.5.1-cp311-cp311-win_amd64.whl (8.9 MB)\n",
      "   ---------------------------------------- 0.0/8.9 MB ? eta -:--:--\n",
      "   --------- ------------------------------ 2.2/8.9 MB 69.4 MB/s eta 0:00:01\n",
      "   ----------------------- ---------------- 5.3/8.9 MB 67.5 MB/s eta 0:00:01\n",
      "   ------------------------------------- -- 8.4/8.9 MB 67.0 MB/s eta 0:00:01\n",
      "   ---------------------------------------- 8.9/8.9 MB 57.1 MB/s eta 0:00:00\n",
      "Installing collected packages: mypy-extensions, hypothesis, mypy, bpe\n",
      "  Attempting uninstall: mypy-extensions\n",
      "    Found existing installation: mypy-extensions 0.4.3\n",
      "    Uninstalling mypy-extensions-0.4.3:\n",
      "      Successfully uninstalled mypy-extensions-0.4.3\n",
      "Successfully installed bpe-1.0 hypothesis-6.87.0 mypy-1.5.1 mypy-extensions-1.0.0\n",
      "Note: you may need to restart the kernel to use updated packages.\n"
     ]
    },
    {
     "name": "stderr",
     "output_type": "stream",
     "text": [
      "ERROR: pip's dependency resolver does not currently take into account all the packages that are installed. This behaviour is the source of the following dependency conflicts.\n",
      "python-lsp-black 1.2.1 requires black>=22.3.0, but you have black 0.0 which is incompatible.\n"
     ]
    }
   ],
   "source": [
    "%pip install bpe\n",
    "from bpe import Encoder"
   ]
  },
  {
   "cell_type": "code",
   "execution_count": 17,
   "id": "6ad9fff5",
   "metadata": {},
   "outputs": [
    {
     "name": "stdout",
     "output_type": "stream",
     "text": [
      "CPU times: total: 0 ns\n",
      "Wall time: 22.6 ms\n"
     ]
    }
   ],
   "source": [
    "%%time\n",
    "whitespace_tokens = my_articles.split(' ')\n",
    "\n",
    "# calling the Encoder algorithm\n",
    "# we've specified 100 token vocab and 95% to be tokenized\n",
    "# the other 5% is transformed into UNK\n",
    "encoder = Encoder(100, pct_bpe=0.95)\n",
    "encoder.fit(whitespace_tokens)"
   ]
  },
  {
   "cell_type": "code",
   "execution_count": 18,
   "id": "039ad9e2",
   "metadata": {},
   "outputs": [
    {
     "name": "stdout",
     "output_type": "stream",
     "text": [
      "san francisco . nov . 1__unk __unk ap __unk__unk- alvin dark made his first decisions yesterday as manager of the san francisco giants . he hired two former teammates as coaches . dark was signed last week , yesterday he selected larry __unkansen and whitley lockman and retained yves westrum and salty parker for his coaching staff . bill posedel was re - leased to make way for __unkansen as boss of the bullpen . dark . __unkansen and lockman - stars when they played for the giants have a lot in common they have regulations al gentlemen , __unkuiet craftsmen whc let their feats on the field speal for them . dark hit 1__unk__unk__unk in his rookie season with the boston brave . and was named rookie of thu year l__unk__unk__unk by the ma__unkor league baseball writer ' s . as lean . smiling youngstel of 1__unk , lockman stepped intc mel otis no . __unk batting spot il midsummer of 1__unk__unk__unk anchead last saturday when mon treal lost in __unk cup playoff with out throwing a pass in the last half . moss said it was because of etcheverry ' s sore arm . the player said his arm was sound . player of the year in 1__unk__unk__unk , and a several - time all - star choice . etcheverry has collected every canadian football honor but one - that of directing a national championship club . he led montreal into the national playoff , the grey cup game , three years in a row , l__unk__unk__unk - __unk__unk - __unk__unk , but each time montreal lost 1__unk edmonton . there ' s __unkust no place like home as far as the chicago black hawks are concerned . the black hawks moved into first place in the national hook ey league last night with a __unk__unk victory over the toronto maple leafs in chicago . the detroit red wings scored three times in the last period to edge the rangers , as . in new york in the only other game played . the hustling black hawks re - manned unbeaten on chicago ice this season as goalie glenn hall fashioned his second shut out . in seven games at home chicago has won five time and tied two . on the road the black hawks are __unk - __unk - __unk . the red wings climbed into a tie for second place with the idle montreal canadiens , who dropped out of undisputed pos session of first place . chicago leads with 1__unk points . detroit and montreal have ii each . wilt chamberlain keeps on scoring baskets and the phila - delphia warriors keep on win ming games . that ' s been the theme of the national basket ball association season so far . chamberlain amassed __unk__unk points last night as the streak ing warriors defeated the los angeles lakers . l__unk__unk - 1l__unk , for their seventh consecutive vic tory . the philadelphia - los angeles game was the opener of a doubleheader at st . louis . in the second game , the hawks posted their fifth straight triumph in beating the detroit pistons , l__unk__unk - 1__unk__unk . the prolific chamberlain ' s scoring output was the highest individual effort of the season wilt also had the season __unk previous high of a . chamberlain ' s appoint har - vest was not the best of his pre - career . the __unk - foot - 1 chamber . lain , the defending scoring champion , twice clicked for __unk1 points last season and he seem . to be a good bet to crack the e__unkisting individual game mari of __unk__unk points . held by elgir baylor of the lakers . baylor kept los angeles ir contention with __unk__unk points , in . icluding l__unk - for - 1__unk from the free throw line . chamberlain , or the other hand , sank only free throws in is attempts , but connected for __unk__unk field goals . los angeles managed to sta __unk with the warriors most of tn , way and the teams entered the final period tied . philadelphia finally sealed the verdict in tht final three minutes with __unk 1__unk __unk tear . bob pettit ' s __unk__unk points spear . headed the hawks . who wer ' without the services of clyd ' lovellette , sidelined with __unk bruised hip . st . louis out scored the pistons , 1__unk__unk__unk , in tn , third period to open up al l__unk - point lead before detroi closed the gap in the fina __unkuarter . cliff hagan contributed __unk points to the hawks attack five piston players hit doubl figures , headed by gene shue ' __unk__unk . raped a home run the first time he faced a ma__unkor league pitcher . __unkansen ' s big league debut was one of the most heart warming ever . 1t took the big highlander seven years to get his first crack at the ma__unkors . when 1t finally came , after a __unk__unk - __unk season with san francisco of the pacific coast league , __unkansen ran into dismal luck . pitching against cleveland in a spring e__unkhibition game , __unkan sen was struck by a line drive hit by bob feller and suffered a fractured __unkaw . larry missed the first si__unk weeks of the l__unk__unk__unk season . he finally got his chance on may __unk__unk , pitched and won his first giant game and went on to a __unkl - __unk record , best in the ma__unkor leagues that season . dark , lockman , __unkansen and westrum were all key figures that october day in 1__unk__unk1 when bobby thomson ' s home run beat the brooklyn dodgers ir a national league playof and gave the giants their first pennant in ia years . e__unkually as important as all the other factors of the bowling motion in a good delivery is the follow - through with the hand and arm . after the ball leaves the hand on every shot the arm which has been perfectly straight throughout the entire backswing will now bend slightly at the elbow into the follow - through as 1t continues straight out in front of the body and on up to shoul - der level . never pull the arm to your left side or angle it of to the right . always stretch 1t out in front of you as though you were reaching for the target . the right leg , e__unktended swings slightly around behind the left and the left arm as sumes a comfortable position for perfect body balance . a good follow - through will direct the ball to the spot you have selected and enable the ball to roll more accurately . if the follow - through is abrupt or short , you will tend to pull the ball or it may cause you tc drop it sooner than you should do not snap or __unkerk ball al point of delivery . this tends tc place an e__unkcessive amount oi spin on the ball , causing it tt curve undesirably . __unk duckpin bowling councidnewport brings you all these famous chry__unkler benefits room . chysler seats are five feet wide , enough for adults to travel in unwrinkied ease . unibody design permits more efficient use of interior space . door openings are wide for easy entry and e__unkit . you rela__unk as you ride . montreal , nov . 1__unk __unk ap __unk__unk- canadian pro football fans still were shaking their heads in dis belief today over the trade send ing montreal ' s sam etcheverry and hal patterson to the hamilton tiger - cats for two players . ofiicials of the toronto argonauts and ottawa rough riders . the other teams in the big four league . e__unkpressed ama__unkement at the deal , in which the alouettes ac__unkuired __unkuarterback bernie faloney . former maryland star . and de - fensive end ron pa__unkuette , a canadian . a comparable deal in united states pro football would be if the baltimore colts sent __unkuarterback __unkohn unitas and end ray berry to tailend club for a pair of regulars . etcheverry . a __unkuarterback who played his college ball at denver , and patterson , a kansas end , were believed to be at outs with perry , __unk__unk - year - old general manager and rookie coach of the alouettes . such comments as __unk are they cra__unky __unk__unk and what ' s really be - hind it __unk__unk were voiced by fans on learning of the swap . one critic commented __unk ii think the whole thing must result from a bet by moss and coach __unkim trimble of hamil - ton on the united states elec - tions - and moss lost __unk moss said he reali__unkes etche - very and patterson are great individual stars , but added the team record the last four years hadn ' t reflected their personal ability . we ' re picking a player who can run with the football __unk he said . i ' ve needed a defensive end . i can guarantee one thing __unk we ' ll have a better won lost record ne__unkt year . etcheverry ' s wife said he didn ' t get along we ' ll with moss patterson a few weeks age angrily walked out on a prac - tice . the reported row came to acontinued from page c - l with the children and doing __unk bit of hunting . said he was sorry to see casey stengel leave the yankees . but added that __unk as long as he had to go they couldn ' t have picked a better man than ralph houk __unk__unk following robinson in the voting were minnie ' minoso chicago . l__unkl __unk ron hansen baltimore , ito __unk al smith . chi . cago . __unk__unk __unk roy sewers , chicago so __unk earl battey , washington __unk1 __unk bill skowron . new york , __unk__unk and __unkim lemon , washington , sc nellie fo__unk . the chicago white so__unk second basemar who won 1__unk__unk__unk mvp honors polled only ii points this yeareastern division\n"
     ]
    }
   ],
   "source": [
    "#print(encoder.tokenize(my_articles))\n",
    "\n",
    "print(next(encoder.inverse_transform(encoder.transform([my_articles]))))"
   ]
  },
  {
   "cell_type": "code",
   "execution_count": null,
   "id": "bee746b3",
   "metadata": {},
   "outputs": [],
   "source": []
  }
 ],
 "metadata": {
  "kernelspec": {
   "display_name": "Python 3 (ipykernel)",
   "language": "python",
   "name": "python3"
  },
  "language_info": {
   "codemirror_mode": {
    "name": "ipython",
    "version": 3
   },
   "file_extension": ".py",
   "mimetype": "text/x-python",
   "name": "python",
   "nbconvert_exporter": "python",
   "pygments_lexer": "ipython3",
   "version": "3.11.4"
  }
 },
 "nbformat": 4,
 "nbformat_minor": 5
}
